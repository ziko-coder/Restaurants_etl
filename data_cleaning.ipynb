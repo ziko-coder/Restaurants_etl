{
 "cells": [
  {
   "cell_type": "code",
   "execution_count": 1,
   "id": "initial_id",
   "metadata": {
    "collapsed": true,
    "ExecuteTime": {
     "end_time": "2023-11-11T11:51:48.826973600Z",
     "start_time": "2023-11-11T11:51:44.057934700Z"
    }
   },
   "outputs": [],
   "source": [
    "import pandas as pd\n",
    "import numpy as np"
   ]
  },
  {
   "cell_type": "code",
   "execution_count": 54,
   "outputs": [],
   "source": [
    "df = pd.read_csv('data/restaurants_.csv')"
   ],
   "metadata": {
    "collapsed": false,
    "ExecuteTime": {
     "end_time": "2023-11-11T12:11:31.980277400Z",
     "start_time": "2023-11-11T12:11:31.901145400Z"
    }
   },
   "id": "56b9c381221807e9"
  },
  {
   "cell_type": "code",
   "execution_count": 57,
   "outputs": [
    {
     "name": "stdout",
     "output_type": "stream",
     "text": [
      "<class 'pandas.core.frame.DataFrame'>\n",
      "RangeIndex: 3030 entries, 0 to 3029\n",
      "Data columns (total 19 columns):\n",
      " #   Column             Non-Null Count  Dtype  \n",
      "---  ------             --------------  -----  \n",
      " 0   id                 3030 non-null   int64  \n",
      " 1   Business_Name      3030 non-null   object \n",
      " 2   Ratings            3030 non-null   float64\n",
      " 3   Snippet            3030 non-null   object \n",
      " 4   Years_in_Business  3030 non-null   float64\n",
      " 5   Phone_Number       3030 non-null   object \n",
      " 6   Address            3030 non-null   object \n",
      " 7   Price_Range        3030 non-null   object \n",
      " 8   Stars              3030 non-null   float64\n",
      " 9   Category_1         3030 non-null   object \n",
      " 10  Category_2         3030 non-null   object \n",
      " 11  Category_3         3030 non-null   object \n",
      " 12  Amenity_1          3030 non-null   object \n",
      " 13  Amenity_2          3030 non-null   object \n",
      " 14  Amenity_3          3030 non-null   object \n",
      " 15  Amenity_4          3030 non-null   object \n",
      " 16  Amenity_5          3030 non-null   object \n",
      " 17  Amenity_6          3030 non-null   object \n",
      " 18  Amenity_7          3030 non-null   object \n",
      "dtypes: float64(3), int64(1), object(15)\n",
      "memory usage: 449.9+ KB\n"
     ]
    }
   ],
   "source": [
    "df.info()"
   ],
   "metadata": {
    "collapsed": false,
    "ExecuteTime": {
     "end_time": "2023-11-11T12:11:44.334747700Z",
     "start_time": "2023-11-11T12:11:44.310953600Z"
    }
   },
   "id": "cf2782d54d19be2e"
  },
  {
   "cell_type": "code",
   "execution_count": 56,
   "outputs": [],
   "source": [
    "df.drop('Unnamed: 0', axis=1, inplace=True)"
   ],
   "metadata": {
    "collapsed": false,
    "ExecuteTime": {
     "end_time": "2023-11-11T12:11:36.975743400Z",
     "start_time": "2023-11-11T12:11:36.964650Z"
    }
   },
   "id": "cc0f922700c3cec9"
  },
  {
   "cell_type": "code",
   "execution_count": 12,
   "outputs": [
    {
     "data": {
      "text/plain": "0"
     },
     "execution_count": 12,
     "metadata": {},
     "output_type": "execute_result"
    }
   ],
   "source": [
    "df['Ratings'] = df['Ratings'].fillna(0)\n",
    "df['Ratings'].isnull().sum()"
   ],
   "metadata": {
    "collapsed": false,
    "ExecuteTime": {
     "end_time": "2023-11-11T11:54:39.442666900Z",
     "start_time": "2023-11-11T11:54:39.382582500Z"
    }
   },
   "id": "57442504999c31cd"
  },
  {
   "cell_type": "code",
   "execution_count": 14,
   "outputs": [
    {
     "data": {
      "text/plain": "0"
     },
     "execution_count": 14,
     "metadata": {},
     "output_type": "execute_result"
    }
   ],
   "source": [
    "df['Years_in_Business'] = df['Years_in_Business'].fillna(0)\n",
    "df['Years_in_Business'].isnull().sum()"
   ],
   "metadata": {
    "collapsed": false,
    "ExecuteTime": {
     "end_time": "2023-11-11T11:55:07.701953800Z",
     "start_time": "2023-11-11T11:55:07.611491900Z"
    }
   },
   "id": "3fdc4ff4f4316fa"
  },
  {
   "cell_type": "code",
   "execution_count": 16,
   "outputs": [
    {
     "data": {
      "text/plain": "0"
     },
     "execution_count": 16,
     "metadata": {},
     "output_type": "execute_result"
    }
   ],
   "source": [
    "df['Stars'] = df['Stars'].fillna(0)\n",
    "df['Stars'].isnull().sum()"
   ],
   "metadata": {
    "collapsed": false,
    "ExecuteTime": {
     "end_time": "2023-11-11T11:55:34.285531500Z",
     "start_time": "2023-11-11T11:55:34.234071300Z"
    }
   },
   "id": "cf95ba5336c8dde5"
  },
  {
   "cell_type": "code",
   "execution_count": 31,
   "outputs": [
    {
     "data": {
      "text/plain": "0"
     },
     "execution_count": 31,
     "metadata": {},
     "output_type": "execute_result"
    }
   ],
   "source": [
    "df['Category_1'] = df['Category_1'].fillna('Not_Included')\n",
    "df['Category_1'].isna().sum()"
   ],
   "metadata": {
    "collapsed": false,
    "ExecuteTime": {
     "end_time": "2023-11-11T11:59:56.734365900Z",
     "start_time": "2023-11-11T11:59:56.712901100Z"
    }
   },
   "id": "bc0f6cf2e46f53b7"
  },
  {
   "cell_type": "code",
   "execution_count": 32,
   "outputs": [
    {
     "data": {
      "text/plain": "0"
     },
     "execution_count": 32,
     "metadata": {},
     "output_type": "execute_result"
    }
   ],
   "source": [
    "df['Category_2'] = df['Category_2'].fillna('Not_Included')\n",
    "df['Category_2'].isna().sum()"
   ],
   "metadata": {
    "collapsed": false,
    "ExecuteTime": {
     "end_time": "2023-11-11T11:59:57.601225300Z",
     "start_time": "2023-11-11T11:59:57.551757Z"
    }
   },
   "id": "1f63b7af395030b1"
  },
  {
   "cell_type": "code",
   "execution_count": 20,
   "outputs": [
    {
     "data": {
      "text/plain": "0"
     },
     "execution_count": 20,
     "metadata": {},
     "output_type": "execute_result"
    }
   ],
   "source": [
    "df['Category_3'] = df['Category_3'].fillna('Not_Included')\n",
    "df['Category_3'].isna().sum()"
   ],
   "metadata": {
    "collapsed": false,
    "ExecuteTime": {
     "end_time": "2023-11-11T11:57:23.473791500Z",
     "start_time": "2023-11-11T11:57:23.444621300Z"
    }
   },
   "id": "7f6f3b53786d8dd9"
  },
  {
   "cell_type": "code",
   "execution_count": 23,
   "outputs": [
    {
     "data": {
      "text/plain": "0"
     },
     "execution_count": 23,
     "metadata": {},
     "output_type": "execute_result"
    }
   ],
   "source": [
    "df['Amenity_1'] = df['Amenity_1'].fillna('Not_Included')\n",
    "df['Amenity_1'].isna().sum()"
   ],
   "metadata": {
    "collapsed": false,
    "ExecuteTime": {
     "end_time": "2023-11-11T11:59:06.013352800Z",
     "start_time": "2023-11-11T11:59:05.901994Z"
    }
   },
   "id": "ec2cf06eec3737b"
  },
  {
   "cell_type": "code",
   "execution_count": 24,
   "outputs": [
    {
     "data": {
      "text/plain": "0"
     },
     "execution_count": 24,
     "metadata": {},
     "output_type": "execute_result"
    }
   ],
   "source": [
    "df['Amenity_2'] = df['Amenity_2'].fillna('Not_Included')\n",
    "df['Amenity_2'].isna().sum()"
   ],
   "metadata": {
    "collapsed": false,
    "ExecuteTime": {
     "end_time": "2023-11-11T11:59:07.261127600Z",
     "start_time": "2023-11-11T11:59:07.211422Z"
    }
   },
   "id": "98a5f25ae72ba332"
  },
  {
   "cell_type": "code",
   "execution_count": 25,
   "outputs": [
    {
     "data": {
      "text/plain": "0"
     },
     "execution_count": 25,
     "metadata": {},
     "output_type": "execute_result"
    }
   ],
   "source": [
    "df['Amenity_3'] = df['Amenity_3'].fillna('Not_Included')\n",
    "df['Amenity_3'].isna().sum()"
   ],
   "metadata": {
    "collapsed": false,
    "ExecuteTime": {
     "end_time": "2023-11-11T11:59:09.337147200Z",
     "start_time": "2023-11-11T11:59:09.275051100Z"
    }
   },
   "id": "18909a3c3a2c8dcb"
  },
  {
   "cell_type": "code",
   "execution_count": 26,
   "outputs": [
    {
     "data": {
      "text/plain": "0"
     },
     "execution_count": 26,
     "metadata": {},
     "output_type": "execute_result"
    }
   ],
   "source": [
    "df['Amenity_4'] = df['Amenity_4'].fillna('Not_Included')\n",
    "df['Amenity_4'].isna().sum()"
   ],
   "metadata": {
    "collapsed": false,
    "ExecuteTime": {
     "end_time": "2023-11-11T11:59:11.150842800Z",
     "start_time": "2023-11-11T11:59:11.130835100Z"
    }
   },
   "id": "46fe82bb22a4f63b"
  },
  {
   "cell_type": "code",
   "execution_count": 27,
   "outputs": [
    {
     "data": {
      "text/plain": "0"
     },
     "execution_count": 27,
     "metadata": {},
     "output_type": "execute_result"
    }
   ],
   "source": [
    "df['Amenity_5'] = df['Amenity_5'].fillna('Not_Included')\n",
    "df['Amenity_5'].isna().sum()"
   ],
   "metadata": {
    "collapsed": false,
    "ExecuteTime": {
     "end_time": "2023-11-11T11:59:12.259624700Z",
     "start_time": "2023-11-11T11:59:12.239629Z"
    }
   },
   "id": "f2f651ff4ca3dc80"
  },
  {
   "cell_type": "code",
   "execution_count": 28,
   "outputs": [
    {
     "data": {
      "text/plain": "0"
     },
     "execution_count": 28,
     "metadata": {},
     "output_type": "execute_result"
    }
   ],
   "source": [
    "df['Amenity_6'] = df['Amenity_6'].fillna('Not_Included')\n",
    "df['Amenity_6'].isna().sum()"
   ],
   "metadata": {
    "collapsed": false,
    "ExecuteTime": {
     "end_time": "2023-11-11T11:59:13.828833900Z",
     "start_time": "2023-11-11T11:59:13.773821500Z"
    }
   },
   "id": "5deef5fb090d516e"
  },
  {
   "cell_type": "code",
   "execution_count": 29,
   "outputs": [
    {
     "data": {
      "text/plain": "0"
     },
     "execution_count": 29,
     "metadata": {},
     "output_type": "execute_result"
    }
   ],
   "source": [
    "df['Amenity_7'] = df['Amenity_7'].fillna('Not_Included')\n",
    "df['Amenity_7'].isna().sum()"
   ],
   "metadata": {
    "collapsed": false,
    "ExecuteTime": {
     "end_time": "2023-11-11T11:59:15.666219800Z",
     "start_time": "2023-11-11T11:59:15.606613500Z"
    }
   },
   "id": "1a09de24b7326a32"
  },
  {
   "cell_type": "code",
   "execution_count": 36,
   "outputs": [],
   "source": [
    "df['Price_Range'] = df['Price_Range'].replace({'NONE': 'Not_Included'}) "
   ],
   "metadata": {
    "collapsed": false,
    "ExecuteTime": {
     "end_time": "2023-11-11T12:01:50.775762800Z",
     "start_time": "2023-11-11T12:01:50.733813700Z"
    }
   },
   "id": "c65b4f73085057db"
  },
  {
   "cell_type": "code",
   "execution_count": 37,
   "outputs": [
    {
     "data": {
      "text/plain": "0               cheap\n1            moderate\n2        Not_Included\n3            moderate\n4            moderate\n            ...      \n3025    highly_priced\n3026     Not_Included\n3027            cheap\n3028            cheap\n3029         moderate\nName: Price_Range, Length: 3030, dtype: object"
     },
     "execution_count": 37,
     "metadata": {},
     "output_type": "execute_result"
    }
   ],
   "source": [
    "df['Price_Range']"
   ],
   "metadata": {
    "collapsed": false,
    "ExecuteTime": {
     "end_time": "2023-11-11T12:01:55.122510700Z",
     "start_time": "2023-11-11T12:01:55.110509200Z"
    }
   },
   "id": "5d1e2f637b4d1b30"
  },
  {
   "cell_type": "code",
   "execution_count": null,
   "outputs": [],
   "source": [],
   "metadata": {
    "collapsed": false
   },
   "id": "37c39199b87efc03"
  },
  {
   "cell_type": "code",
   "execution_count": 58,
   "outputs": [],
   "source": [
    "df.to_csv('data/new_restaurants_.csv')"
   ],
   "metadata": {
    "collapsed": false,
    "ExecuteTime": {
     "end_time": "2023-11-11T12:11:48.060750300Z",
     "start_time": "2023-11-11T12:11:47.986714Z"
    }
   },
   "id": "9a21bed88748fef0"
  },
  {
   "cell_type": "code",
   "execution_count": 59,
   "outputs": [
    {
     "name": "stdout",
     "output_type": "stream",
     "text": [
      "<class 'pandas.core.frame.DataFrame'>\n",
      "RangeIndex: 3030 entries, 0 to 3029\n",
      "Data columns (total 20 columns):\n",
      " #   Column             Non-Null Count  Dtype  \n",
      "---  ------             --------------  -----  \n",
      " 0   Unnamed: 0         3030 non-null   int64  \n",
      " 1   id                 3030 non-null   int64  \n",
      " 2   Business_Name      3030 non-null   object \n",
      " 3   Ratings            3030 non-null   float64\n",
      " 4   Snippet            3030 non-null   object \n",
      " 5   Years_in_Business  3030 non-null   float64\n",
      " 6   Phone_Number       3030 non-null   object \n",
      " 7   Address            3030 non-null   object \n",
      " 8   Price_Range        3030 non-null   object \n",
      " 9   Stars              3030 non-null   float64\n",
      " 10  Category_1         3030 non-null   object \n",
      " 11  Category_2         3030 non-null   object \n",
      " 12  Category_3         3030 non-null   object \n",
      " 13  Amenity_1          3030 non-null   object \n",
      " 14  Amenity_2          3030 non-null   object \n",
      " 15  Amenity_3          3030 non-null   object \n",
      " 16  Amenity_4          3030 non-null   object \n",
      " 17  Amenity_5          3030 non-null   object \n",
      " 18  Amenity_6          3030 non-null   object \n",
      " 19  Amenity_7          3030 non-null   object \n",
      "dtypes: float64(3), int64(2), object(15)\n",
      "memory usage: 473.6+ KB\n"
     ]
    }
   ],
   "source": [
    "d = pd.read_csv('data/new_restaurants_.csv')\n",
    "d.info()"
   ],
   "metadata": {
    "collapsed": false,
    "ExecuteTime": {
     "end_time": "2023-11-11T12:18:25.594770700Z",
     "start_time": "2023-11-11T12:18:25.509039200Z"
    }
   },
   "id": "7eb0fab9cd40aa9d"
  }
 ],
 "metadata": {
  "kernelspec": {
   "display_name": "Python 3",
   "language": "python",
   "name": "python3"
  },
  "language_info": {
   "codemirror_mode": {
    "name": "ipython",
    "version": 2
   },
   "file_extension": ".py",
   "mimetype": "text/x-python",
   "name": "python",
   "nbconvert_exporter": "python",
   "pygments_lexer": "ipython2",
   "version": "2.7.6"
  }
 },
 "nbformat": 4,
 "nbformat_minor": 5
}
